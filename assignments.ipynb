{
 "cells": [
  {
   "cell_type": "code",
   "execution_count": 3,
   "metadata": {},
   "outputs": [
    {
     "name": "stderr",
     "output_type": "stream",
     "text": [
      "parsing log, completed traces :: 100%|██████████| 150370/150370 [00:11<00:00, 13181.01it/s]\n"
     ]
    }
   ],
   "source": [
    "import pm4py\n",
    "\n",
    "event_log = pm4py.read_xes(\"data/Road_Traffic_Fine_Management_Process.xes\")"
   ]
  },
  {
   "cell_type": "markdown",
   "metadata": {},
   "source": [
    "# Session 1\n",
    "\n",
    "## Task 1.1\n",
    "\n",
    "- *a)* 2000-01-01 00:00:00+00:00 to 2013-06-18 00:00:00+00:00\n",
    "- *b)* 113\n",
    "- *c)*\n",
    "    - *min:* 0.0\n",
    "    - *median:* 35.0\n",
    "    - *max:* 4351.0\n",
    "    - *recommendation:*\n",
    "- *d)* 4,160"
   ]
  }
 ],
 "metadata": {
  "kernelspec": {
   "display_name": "Python 3",
   "language": "python",
   "name": "python3"
  },
  "language_info": {
   "codemirror_mode": {
    "name": "ipython",
    "version": 3
   },
   "file_extension": ".py",
   "mimetype": "text/x-python",
   "name": "python",
   "nbconvert_exporter": "python",
   "pygments_lexer": "ipython3",
   "version": "3.12.1"
  }
 },
 "nbformat": 4,
 "nbformat_minor": 2
}
